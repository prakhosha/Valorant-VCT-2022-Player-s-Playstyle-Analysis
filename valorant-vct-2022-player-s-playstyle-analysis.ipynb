{
 "cells": [
  {
   "cell_type": "markdown",
   "metadata": {},
   "source": [
    "# Introduction\n",
    "\n",
    "This notebook contains an analysis on similirarity between all professional valorant players that played in VCT 2022 Champions.\n",
    "\n",
    "The data comes from vlr.gg.\n",
    "\n",
    "The data consists of:\n",
    "\n",
    "1. player_name: Player name\n",
    "2. player_url: Link to players profile on vlr.gg\n",
    "3. player_RND: How many rounds the player played\n",
    "4. player_rating: rating\n",
    "5. player_ACS: Average combat score\n",
    "6. player_KAST: Kill, assist, survive, trade %\n",
    "7. player_KD_ratio: Kill-death ratio\n",
    "8. player_ADR: Average damage per round\n",
    "9. player_KPR: Average kill per round\n",
    "10. player_APR: Average assist per round\n",
    "11. player_FKPR: First kill per round\n",
    "12. player_FDPR: First death per round\n",
    "13. player_HS: Headshot %\n",
    "14. player_CL_percentage: Clutch success %\n",
    "15. player_CL: How many clutches the player won / how many clutches the player played\n",
    "16. three agent picks for every player of all players that participated in VCT 2022 Champions."
   ]
  },
  {
   "cell_type": "code",
   "execution_count": null,
   "metadata": {
    "execution": {
     "iopub.execute_input": "2023-01-19T03:32:04.008306Z",
     "iopub.status.busy": "2023-01-19T03:32:04.007884Z",
     "iopub.status.idle": "2023-01-19T03:32:43.960580Z",
     "shell.execute_reply": "2023-01-19T03:32:43.959378Z",
     "shell.execute_reply.started": "2023-01-19T03:32:04.008219Z"
    }
   },
   "outputs": [],
   "source": [
    "!pip install pingouin\n",
    "print('')\n",
    "!pip install adjustText\n",
    "\n",
    "import pandas as pd\n",
    "import numpy as np\n",
    "import scipy.stats as stat\n",
    "import pingouin as pg\n",
    "import seaborn as sb\n",
    "import matplotlib.pyplot as plt\n",
    "from adjustText import adjust_text"
   ]
  },
  {
   "cell_type": "code",
   "execution_count": null,
   "metadata": {
    "execution": {
     "iopub.execute_input": "2023-01-19T03:32:43.962903Z",
     "iopub.status.busy": "2023-01-19T03:32:43.962372Z",
     "iopub.status.idle": "2023-01-19T03:32:44.017243Z",
     "shell.execute_reply": "2023-01-19T03:32:44.016336Z",
     "shell.execute_reply.started": "2023-01-19T03:32:43.962874Z"
    }
   },
   "outputs": [],
   "source": [
    "data_path = '/kaggle/input/valorant-vlr-vct-2022-per-round-data/vlr_vct2022_data.csv'\n",
    "df = pd.read_csv(data_path)\n",
    "\n",
    "df['player_CL_percent'] = df['player_CL_percent'].fillna('0%')\n",
    "df['player_CL_percent'] = df['player_CL_percent'].str.rstrip('%').astype('float') / 100.0\n",
    "df['player_HS'] = df['player_HS'].str.rstrip('%').astype('float') / 100.0\n",
    "df['player_KAST'] = df['player_KAST'].str.rstrip('%').astype('float') / 100.0\n",
    "\n",
    "print(\"Preview of the data:\")\n",
    "df.head()"
   ]
  },
  {
   "cell_type": "markdown",
   "metadata": {},
   "source": [
    "## Correlation for All Stats to Rating"
   ]
  },
  {
   "cell_type": "markdown",
   "metadata": {},
   "source": [
    "Before we dwell further, this analysis is supposed to analyze a player's playstyle without considering their ability in the game. So to accommodate this, I compute the correlation of all parameters in the game to the rating as rating is an indicator on how good the player is in playing the game. I then remove those parameters that have more than 0.5 correlation."
   ]
  },
  {
   "cell_type": "code",
   "execution_count": null,
   "metadata": {
    "execution": {
     "iopub.execute_input": "2023-01-19T03:32:44.018572Z",
     "iopub.status.busy": "2023-01-19T03:32:44.018306Z",
     "iopub.status.idle": "2023-01-19T03:32:44.368594Z",
     "shell.execute_reply": "2023-01-19T03:32:44.367138Z",
     "shell.execute_reply.started": "2023-01-19T03:32:44.018548Z"
    }
   },
   "outputs": [],
   "source": [
    "vlr_stat = ['player_ACS', 'player_KAST', 'player_KD_ratio', 'player_ADR',\n",
    "            'player_KPR', 'player_APR', 'player_FKPR', 'player_FDPR',\n",
    "            'player_HS', 'player_CL_percent']\n",
    "\n",
    "corr = df[vlr_stat].corrwith(df['player_rating'])\n",
    "sb.set(rc={'figure.figsize':(13, 5)})\n",
    "plot = sb.heatmap(pd.DataFrame(corr), annot=True)\n",
    "plt.title(\"Pearson correlation of player rating\")\n",
    "plt.xlabel('Pearson correlation')\n",
    "\n",
    "fig = plot.get_figure()\n",
    "fig.savefig(\"/kaggle/working/pearson_corr1.png\") "
   ]
  },
  {
   "cell_type": "markdown",
   "metadata": {},
   "source": [
    "Although player headshot percentage does not indicate any correlation to player rating, I still remove this from analysis because it is an indication of how good the player is at aiming.\n",
    "\n",
    "Also, while the correlation shows that player’s clutch percentage does not correlate with player rating that much, I believe that putting it in is an unfair judgement because this parameter still contains information about how good someone is at winning the round.\n",
    "\n",
    "Thus I suggest creating a new parameter called clutch situation frequency or CSF for short. This new parameter can be obtained by dividing the number of clutch situations they have played by the number of rounds they have played.\n",
    "\n"
   ]
  },
  {
   "cell_type": "code",
   "execution_count": null,
   "metadata": {
    "execution": {
     "iopub.execute_input": "2023-01-19T03:32:44.371023Z",
     "iopub.status.busy": "2023-01-19T03:32:44.370702Z",
     "iopub.status.idle": "2023-01-19T03:32:44.383276Z",
     "shell.execute_reply": "2023-01-19T03:32:44.381573Z",
     "shell.execute_reply.started": "2023-01-19T03:32:44.370996Z"
    }
   },
   "outputs": [],
   "source": [
    "df['player_CL'] = df['player_CL'].str.split('/').str[1].astype('float')\n",
    "df['player_CSF'] = df['player_CL']/df['player_RND']"
   ]
  },
  {
   "cell_type": "code",
   "execution_count": null,
   "metadata": {
    "execution": {
     "iopub.execute_input": "2023-01-19T03:32:44.385263Z",
     "iopub.status.busy": "2023-01-19T03:32:44.384874Z",
     "iopub.status.idle": "2023-01-19T03:32:44.725445Z",
     "shell.execute_reply": "2023-01-19T03:32:44.724324Z",
     "shell.execute_reply.started": "2023-01-19T03:32:44.385225Z"
    }
   },
   "outputs": [],
   "source": [
    "vlr_stat = ['player_ACS', 'player_KAST', 'player_KD_ratio', 'player_ADR',\n",
    "            'player_KPR', 'player_APR', 'player_FKPR', 'player_FDPR',\n",
    "            'player_HS', 'player_CSF']\n",
    "\n",
    "corr = df[vlr_stat].corrwith(df['player_rating'])\n",
    "sb.set(rc={'figure.figsize':(13, 5)})\n",
    "plot = sb.heatmap(pd.DataFrame(corr), annot=True)\n",
    "plt.title(\"Pearson correlation of player rating\")\n",
    "plt.xlabel('Pearson correlation')\n",
    "\n",
    "fig = plot.get_figure()\n",
    "fig.savefig(\"/kaggle/working/pearson_corr2.png\") "
   ]
  },
  {
   "cell_type": "markdown",
   "metadata": {},
   "source": [
    "As you can see, our new CSF parameter does not have any correlation with player rating.\n",
    "\n",
    "Based on this result, we will use APR, FKPR, FDPR, and CSF to analyze a player's playstyle."
   ]
  },
  {
   "cell_type": "markdown",
   "metadata": {},
   "source": [
    "## APR, FKPR, FDPR, and CSF Distribution for All Professional Players"
   ]
  },
  {
   "cell_type": "markdown",
   "metadata": {},
   "source": [
    "Also before we go further, I remove the agent pool because the data in vlr.gg can only show 3 agents that the player played. And I don't know if those agents are the most used agents by the player or not. So, it's best to remove the agent pool from the analysis."
   ]
  },
  {
   "cell_type": "code",
   "execution_count": null,
   "metadata": {
    "execution": {
     "iopub.execute_input": "2023-01-19T03:32:44.727466Z",
     "iopub.status.busy": "2023-01-19T03:32:44.727111Z",
     "iopub.status.idle": "2023-01-19T03:32:44.745586Z",
     "shell.execute_reply": "2023-01-19T03:32:44.744360Z",
     "shell.execute_reply.started": "2023-01-19T03:32:44.727433Z"
    }
   },
   "outputs": [],
   "source": [
    "df.fillna('', inplace=True)\n",
    "df['top_3_agents'] = df['player_top_3_agents_1_image'] + df['player_top_3_agents_2_image'] + df['player_top_3_agents_3_image']\n",
    "\n",
    "# ----- Uncomment all below to include agents into analysis ----- #\n",
    "#agents = ['astra', 'breach', 'brimstone', 'chamber', 'cypher',\n",
    "#          'harbor', 'jett', 'kayo', 'killjoy', 'neon', 'omen',\n",
    "#          'phoenix', 'raze', 'reyna', 'sage', 'skye', 'sova', 'viper', 'yoru']\n",
    "\n",
    "#for agent in agents:\n",
    "#    df[agent] = pd.np.where(df['top_3_agents'].str.contains(agent), 1, 0)\n",
    "    \n",
    "df.drop(columns=['player_url', 'player_RND', 'player_ADR', 'player_KPR', 'player_ACS',\n",
    "                 'player_rating', 'player_KAST', 'player_KD_ratio', \n",
    "                 'player_HS', 'player_CL_percent', 'player_CL',\n",
    "                 'player_top_3_agents_1_image',\n",
    "                 'player_top_3_agents_2_image',\n",
    "                 'player_top_3_agents_3_image',\n",
    "                 'top_3_agents'], inplace=True)\n",
    "\n",
    "df.head()"
   ]
  },
  {
   "cell_type": "markdown",
   "metadata": {},
   "source": [
    "### APR"
   ]
  },
  {
   "cell_type": "code",
   "execution_count": null,
   "metadata": {
    "execution": {
     "iopub.execute_input": "2023-01-19T03:32:44.746985Z",
     "iopub.status.busy": "2023-01-19T03:32:44.746599Z",
     "iopub.status.idle": "2023-01-19T03:32:45.073749Z",
     "shell.execute_reply": "2023-01-19T03:32:45.072770Z",
     "shell.execute_reply.started": "2023-01-19T03:32:44.746954Z"
    }
   },
   "outputs": [],
   "source": [
    "sb.set(rc={'figure.figsize':(10, 8)})\n",
    "plot = sb.histplot(data=df, x=\"player_APR\", bins=10, stat=\"density\", element=\"step\", kde=True)\n",
    "print(pg.normality(df['player_APR']))\n",
    "\n",
    "mean_confi = stat.t.interval(alpha=0.95, df=len(df['player_APR'])-1, loc=np.mean(df['player_APR']), scale=stat.sem(df['player_APR']))\n",
    "print('Mean with 95% confidence interval: {}'.format(mean_confi))\n",
    "\n",
    "fig = plot.get_figure()\n",
    "fig.savefig(\"/kaggle/working/APR_dist.png\") "
   ]
  },
  {
   "cell_type": "markdown",
   "metadata": {},
   "source": [
    "Assist per round (APR) for all players through VCT 2022 seems distributed normally."
   ]
  },
  {
   "cell_type": "markdown",
   "metadata": {},
   "source": [
    "### FKPR"
   ]
  },
  {
   "cell_type": "code",
   "execution_count": null,
   "metadata": {
    "execution": {
     "iopub.execute_input": "2023-01-19T03:32:45.075070Z",
     "iopub.status.busy": "2023-01-19T03:32:45.074827Z",
     "iopub.status.idle": "2023-01-19T03:32:45.367954Z",
     "shell.execute_reply": "2023-01-19T03:32:45.366775Z",
     "shell.execute_reply.started": "2023-01-19T03:32:45.075048Z"
    }
   },
   "outputs": [],
   "source": [
    "sb.set(rc={'figure.figsize':(10, 8)})\n",
    "plot = sb.histplot(data=df, x=\"player_FKPR\", bins=20, stat=\"density\", element=\"step\", kde=True)\n",
    "print(pg.normality(df['player_FKPR']))\n",
    "\n",
    "mean_confi = stat.t.interval(alpha=0.95, df=len(df['player_FKPR'])-1, loc=np.mean(df['player_FKPR']), scale=stat.sem(df['player_FKPR']))\n",
    "print('Mean with 95% confidence interval: {}'.format(mean_confi))\n",
    "\n",
    "fig = plot.get_figure()\n",
    "fig.savefig(\"/kaggle/working/FKPR_dist.png\") "
   ]
  },
  {
   "cell_type": "markdown",
   "metadata": {},
   "source": [
    "First kill per round (FKPR) for all players through VCT 2022 Champions is not normally distributed. And it makes sense because FKPR a little bit relies on how skilled the player is so there are abnormalities on the data."
   ]
  },
  {
   "cell_type": "markdown",
   "metadata": {},
   "source": [
    "### FDPR"
   ]
  },
  {
   "cell_type": "code",
   "execution_count": null,
   "metadata": {
    "execution": {
     "iopub.execute_input": "2023-01-19T03:32:45.369570Z",
     "iopub.status.busy": "2023-01-19T03:32:45.369284Z",
     "iopub.status.idle": "2023-01-19T03:32:45.677605Z",
     "shell.execute_reply": "2023-01-19T03:32:45.676514Z",
     "shell.execute_reply.started": "2023-01-19T03:32:45.369546Z"
    }
   },
   "outputs": [],
   "source": [
    "sb.set(rc={'figure.figsize':(10, 8)})\n",
    "plot = sb.histplot(data=df, x=\"player_FDPR\", bins=15, stat=\"density\", element=\"step\", kde=True)\n",
    "print(pg.normality(df['player_FDPR']))\n",
    "\n",
    "mean_confi = stat.t.interval(alpha=0.95, df=len(df['player_FDPR'])-1, loc=np.mean(df['player_FDPR']), scale=stat.sem(df['player_FDPR']))\n",
    "print('Mean with 95% confidence interval: {}'.format(mean_confi))\n",
    "\n",
    "fig = plot.get_figure()\n",
    "fig.savefig(\"/kaggle/working/FDPR_dist.png\") "
   ]
  },
  {
   "cell_type": "markdown",
   "metadata": {},
   "source": [
    "The interesting thing is that based on FKPR I expect the distribution of FDPR would be left-skewed (because abnormal players that successfully entry should live longer than most players so result in small FDPR), but in fact it is right-skewed.\n",
    "\n",
    "In my opinion, this is because in defense situations, most players tend to sit deep holding an angle while some of them hold a dangerous position resulting in right-skewed data.\n",
    "\n",
    "This just shows that FPDR is one way to measure how aggressive a player is."
   ]
  },
  {
   "cell_type": "markdown",
   "metadata": {},
   "source": [
    "### CSF"
   ]
  },
  {
   "cell_type": "code",
   "execution_count": null,
   "metadata": {
    "execution": {
     "iopub.execute_input": "2023-01-19T03:32:45.681708Z",
     "iopub.status.busy": "2023-01-19T03:32:45.681433Z",
     "iopub.status.idle": "2023-01-19T03:32:46.111670Z",
     "shell.execute_reply": "2023-01-19T03:32:46.110471Z",
     "shell.execute_reply.started": "2023-01-19T03:32:45.681684Z"
    }
   },
   "outputs": [],
   "source": [
    "sb.set(rc={'figure.figsize':(10, 8)})\n",
    "plot = sb.histplot(data=df, x=\"player_CSF\", bins=20, stat=\"density\", element=\"step\", kde=True)\n",
    "print(pg.normality(df['player_CSF']))\n",
    "\n",
    "mean_confi = stat.t.interval(alpha=0.95, df=len(df['player_CSF'])-1, loc=np.mean(df['player_CSF']), scale=stat.sem(df['player_CSF']))\n",
    "print('Mean with 95% confidence interval: {}'.format(mean_confi))\n",
    "\n",
    "fig = plot.get_figure()\n",
    "fig.savefig(\"/kaggle/working/CSF_dist.png\") "
   ]
  },
  {
   "cell_type": "markdown",
   "metadata": {},
   "source": [
    "Clutch situation frequency also suggests an abnormal distribution."
   ]
  },
  {
   "cell_type": "markdown",
   "metadata": {},
   "source": [
    "# Distance for All Players"
   ]
  },
  {
   "cell_type": "code",
   "execution_count": null,
   "metadata": {
    "execution": {
     "iopub.execute_input": "2023-01-19T03:32:46.113933Z",
     "iopub.status.busy": "2023-01-19T03:32:46.113541Z",
     "iopub.status.idle": "2023-01-19T03:32:46.363595Z",
     "shell.execute_reply": "2023-01-19T03:32:46.362270Z",
     "shell.execute_reply.started": "2023-01-19T03:32:46.113900Z"
    }
   },
   "outputs": [],
   "source": [
    "from sklearn.preprocessing import StandardScaler\n",
    "from sklearn.manifold import TSNE"
   ]
  },
  {
   "cell_type": "markdown",
   "metadata": {},
   "source": [
    "I use a standard scaler to standardize any abnormal distributed data."
   ]
  },
  {
   "cell_type": "code",
   "execution_count": null,
   "metadata": {
    "execution": {
     "iopub.execute_input": "2023-01-19T03:32:46.365875Z",
     "iopub.status.busy": "2023-01-19T03:32:46.365486Z",
     "iopub.status.idle": "2023-01-19T03:32:46.375320Z",
     "shell.execute_reply": "2023-01-19T03:32:46.374075Z",
     "shell.execute_reply.started": "2023-01-19T03:32:46.365842Z"
    }
   },
   "outputs": [],
   "source": [
    "df_visualize = df.drop(columns=\"player_name\")\n",
    "\n",
    "scaler = StandardScaler()\n",
    "df_visualize = scaler.fit_transform(df_visualize)\n",
    "df_visualize = pd.DataFrame(df_visualize)"
   ]
  },
  {
   "cell_type": "code",
   "execution_count": null,
   "metadata": {
    "execution": {
     "iopub.execute_input": "2023-01-19T03:32:46.376907Z",
     "iopub.status.busy": "2023-01-19T03:32:46.376545Z",
     "iopub.status.idle": "2023-01-19T03:32:46.630604Z",
     "shell.execute_reply": "2023-01-19T03:32:46.629588Z",
     "shell.execute_reply.started": "2023-01-19T03:32:46.376877Z"
    }
   },
   "outputs": [],
   "source": [
    "from sklearn.metrics import pairwise_distances\n",
    "from sklearn.manifold import MDS\n",
    "\n",
    "D = pairwise_distances(df_visualize)\n",
    "D.shape\n",
    "\n",
    "sb.set(rc={'figure.figsize':(8, 8)})\n",
    "plot = sb.heatmap(D, annot=False, xticklabels=False, yticklabels=False)\n",
    "plt.title(\"Heatmap of Distances (in other word 'similarity') for All Players in VCT 2022 Champions\")\n",
    "plt.xlabel('Players, (Rank from Left to Right)')\n",
    "plt.ylabel('Players, (Rank from Top to Bottom)')\n",
    "\n",
    "fig = plot.get_figure()\n",
    "fig.savefig(\"/kaggle/working/heatmap.png\") "
   ]
  },
  {
   "cell_type": "markdown",
   "metadata": {},
   "source": [
    "The euclidean distances indicate there seems to be no particular pattern between high-rating players and low-rating players."
   ]
  },
  {
   "cell_type": "code",
   "execution_count": null,
   "metadata": {
    "execution": {
     "iopub.execute_input": "2023-01-19T03:32:46.632533Z",
     "iopub.status.busy": "2023-01-19T03:32:46.632215Z",
     "iopub.status.idle": "2023-01-19T03:32:47.016056Z",
     "shell.execute_reply": "2023-01-19T03:32:47.015095Z",
     "shell.execute_reply.started": "2023-01-19T03:32:46.632507Z"
    }
   },
   "outputs": [],
   "source": [
    "model = TSNE(n_components=2, learning_rate='auto', init='pca', perplexity=5, random_state=1)\n",
    "df_visualize = model.fit_transform(df_visualize)\n",
    "df_visualize = pd.DataFrame(df_visualize)\n",
    "df_visualize['player_name'] = df['player_name']"
   ]
  },
  {
   "cell_type": "code",
   "execution_count": null,
   "metadata": {
    "execution": {
     "iopub.execute_input": "2023-01-19T03:32:47.019575Z",
     "iopub.status.busy": "2023-01-19T03:32:47.019248Z",
     "iopub.status.idle": "2023-01-19T03:33:10.323916Z",
     "shell.execute_reply": "2023-01-19T03:33:10.322984Z",
     "shell.execute_reply.started": "2023-01-19T03:32:47.019545Z"
    }
   },
   "outputs": [],
   "source": [
    "sb.set(rc={'figure.figsize':(18, 15)})\n",
    "sb.set_style(\"darkgrid\", {'axes.grid' : False})\n",
    "\n",
    "plot = sb.scatterplot(data=df_visualize, x=0, y=1, hue='player_name', legend=False)\n",
    "\n",
    "texts = [plt.text(df_visualize[0][row],\n",
    "                  df_visualize[1][row],\n",
    "                  df_visualize['player_name'][row],\n",
    "                  fontweight='semibold') for row, player in enumerate(df_visualize['player_name'])\n",
    "        ]\n",
    "adjust_text(texts)\n",
    "\n",
    "plt.title(\"Player Similarity in VCT 2022 Champions based on APR, FKPR, FDPR, and how many clutch situation they have played (Clutch Situation Frequency/CSF)\",\n",
    "          fontdict={'fontsize': 15, 'fontweight':'semibold'})\n",
    "\n",
    "plot.set(xlabel=None)\n",
    "plot.tick_params(bottom=False)\n",
    "plot.axes.xaxis.set_visible(False)\n",
    "plot.axes.yaxis.set_visible(False)\n",
    "\n",
    "fig = plot.get_figure()\n",
    "fig.savefig(\"/kaggle/working/similarity.png\") "
   ]
  },
  {
   "cell_type": "markdown",
   "metadata": {},
   "source": [
    "Visually we can see there are about 6 different groups of playstyle. Here is the analysis:\n",
    "\n",
    "Note: Direct utilities does not mean utilities in general. Direct utilities means abilities that result in assist. As for abilities that do not result in assist such as those to take space, to hold space, or dummy abilities do not count in direct utilities.\n",
    "\n",
    "1. Usually play as the deepest member in a site or the last one to entry a site and also tend to use direct utilities to help other members.\n",
    "\n",
    "2. Play safely or passively and is the most likely group to use direct utilities (utilities that result in assist) to help other members. (except for Smoggy, the reason he is here is because he played really well as Jett and as a result he did not experience many first deaths, and he also played really well as Kay/o).\n",
    "\n",
    "3. Play safely or passively and tend to use direct utilities to help other members.\n",
    "\n",
    "4. Tend to play aggressively or to hold a dangerous position. This is the least likely group to use direct utilities other than the space taker.\n",
    "\n",
    "5. Tend to play aggressively to be able to use direct utilities to help other members or tend to hold a dangerous position.\n",
    "\n",
    "6. Designated as space taker and first contact players (hold a dangerous position). The most aggressive group of players.\n"
   ]
  },
  {
   "cell_type": "markdown",
   "metadata": {},
   "source": [
    "### Further Analysis"
   ]
  },
  {
   "cell_type": "code",
   "execution_count": null,
   "metadata": {
    "execution": {
     "iopub.execute_input": "2023-01-19T03:33:10.325361Z",
     "iopub.status.busy": "2023-01-19T03:33:10.325058Z",
     "iopub.status.idle": "2023-01-19T03:33:10.347308Z",
     "shell.execute_reply": "2023-01-19T03:33:10.346398Z",
     "shell.execute_reply.started": "2023-01-19T03:33:10.325334Z"
    }
   },
   "outputs": [],
   "source": [
    "group1 = ['stellar', 'mindfreak', 'Benkai', 'Melser', 'CHICHOO', 'blaZek1ng',\n",
    "          'sScary ', 'Derrek', 'SUYGETSU', 'tehbotoL', 'stax', 'nzr']\n",
    "\n",
    "group2 = ['Smoggy', 'BcJ', 'Marved', 'bang', 'Mazino', 'Shyy', 'Boaster',\n",
    "          'dephh', 'crashies', 'Mistic', 'pANcada', 'Sacy', 'Enzo', 'Mako', 'Shao']\n",
    "\n",
    "group3 = ['delz1k', 'AYRIN', 'crow', 'Klaus', 'adverso', 'Zest', 'Nivera', 'Khalil', \n",
    "          'dimasick', 'SugarZ3ro', 'Crws', 'd4v41', 'soulcas', 'FNS']\n",
    "\n",
    "group4 = ['foxz', 'Tacolilla', 'fl1pzjder', 'Famouz', 'Dep', 'Less', 'Haodong', 'nobody']\n",
    "\n",
    "group5 = ['Mazin', 'saadhak', 'Asuna', 'ANGE1', 'Suhsiboys', 'Quick', 'Rb']\n",
    "\n",
    "group6 = ['Surf', 'Life', 'f0rsakeN', 'BerserX', 'Jinggg', 'Victor', 'keznit', 'Alfajer', \n",
    "          'TENNN', 'Derke', 'aspas', 'zekken', 'BuZz', 'Scream', 'Will', 'ardiis', 'Zyppan', \n",
    "          'kiNgg', 'Jamppi', 'Cryocells', 'yay', 'dgzin', 'Zmjjkk', 'NagZ', 'Laz']\n",
    "\n",
    "df['group'] = pd.np.where(df['player_name'].isin(group1), 1, \n",
    "                          pd.np.where(df['player_name'].isin(group2), 2, \n",
    "                                      pd.np.where(df['player_name'].isin(group3), 3, \n",
    "                                                  pd.np.where(df['player_name'].isin(group4), 4, \n",
    "                                                             pd.np.where(df['player_name'].isin(group5), 5, 6)))))\n",
    "\n",
    "df.head()"
   ]
  },
  {
   "cell_type": "markdown",
   "metadata": {},
   "source": [
    "### APR for All Groups"
   ]
  },
  {
   "cell_type": "code",
   "execution_count": null,
   "metadata": {
    "execution": {
     "iopub.execute_input": "2023-01-19T03:55:00.940728Z",
     "iopub.status.busy": "2023-01-19T03:55:00.940397Z",
     "iopub.status.idle": "2023-01-19T03:55:01.371277Z",
     "shell.execute_reply": "2023-01-19T03:55:01.370433Z",
     "shell.execute_reply.started": "2023-01-19T03:55:00.940699Z"
    }
   },
   "outputs": [],
   "source": [
    "df_viz = df[df['group'].isin([1, 2, 3, 4, 5, 6])]\n",
    "palette = {1:\"tab:blue\",\n",
    "           2:\"tab:green\", \n",
    "           3:\"tab:olive\",\n",
    "           4:\"tab:pink\",\n",
    "           5:\"tab:orange\",\n",
    "           6:\"tab:red\"}\n",
    "\n",
    "sb.set(rc={'figure.figsize':(10, 8)})\n",
    "plot = sb.histplot(data=df_viz, x=\"player_APR\", bins=10, stat=\"density\", \n",
    "                   element=\"step\", kde=True, hue='group', palette=palette)\n",
    "\n",
    "fig = plot.get_figure()\n",
    "fig.savefig(\"/kaggle/working/APR_dist_grouped.png\") "
   ]
  },
  {
   "cell_type": "markdown",
   "metadata": {},
   "source": [
    "### FKPR for All Groups"
   ]
  },
  {
   "cell_type": "code",
   "execution_count": null,
   "metadata": {
    "execution": {
     "iopub.execute_input": "2023-01-19T03:55:19.284929Z",
     "iopub.status.busy": "2023-01-19T03:55:19.284567Z",
     "iopub.status.idle": "2023-01-19T03:55:19.704457Z",
     "shell.execute_reply": "2023-01-19T03:55:19.702962Z",
     "shell.execute_reply.started": "2023-01-19T03:55:19.284901Z"
    }
   },
   "outputs": [],
   "source": [
    "df_viz = df[df['group'].isin([1, 2, 3, 4, 5, 6])]\n",
    "palette = {1:\"tab:blue\",\n",
    "           2:\"tab:green\", \n",
    "           3:\"tab:olive\",\n",
    "           4:\"tab:pink\",\n",
    "           5:\"tab:orange\",\n",
    "           6:\"tab:red\"}\n",
    "\n",
    "sb.set(rc={'figure.figsize':(10, 8)})\n",
    "plot = sb.histplot(data=df_viz, x=\"player_FKPR\", bins=10, stat=\"density\", \n",
    "                   element=\"step\", kde=True, hue='group', palette=palette)\n",
    "\n",
    "fig = plot.get_figure()\n",
    "fig.savefig(\"/kaggle/working/FKPR_dist_grouped.png\") "
   ]
  },
  {
   "cell_type": "markdown",
   "metadata": {},
   "source": [
    "### FDPR for All Groups"
   ]
  },
  {
   "cell_type": "code",
   "execution_count": null,
   "metadata": {
    "execution": {
     "iopub.execute_input": "2023-01-19T03:55:30.636408Z",
     "iopub.status.busy": "2023-01-19T03:55:30.635642Z",
     "iopub.status.idle": "2023-01-19T03:55:31.060755Z",
     "shell.execute_reply": "2023-01-19T03:55:31.059695Z",
     "shell.execute_reply.started": "2023-01-19T03:55:30.636377Z"
    }
   },
   "outputs": [],
   "source": [
    "df_viz = df[df['group'].isin([1, 2, 3, 4, 5, 6])]\n",
    "palette = {1:\"tab:blue\",\n",
    "           2:\"tab:green\", \n",
    "           3:\"tab:olive\",\n",
    "           4:\"tab:pink\",\n",
    "           5:\"tab:orange\",\n",
    "           6:\"tab:red\"}\n",
    "\n",
    "sb.set(rc={'figure.figsize':(10, 8)})\n",
    "plot = sb.histplot(data=df_viz, x=\"player_FDPR\", bins=10, stat=\"density\", \n",
    "                   element=\"step\", kde=True, hue='group', palette=palette)\n",
    "\n",
    "fig = plot.get_figure()\n",
    "fig.savefig(\"/kaggle/working/FDPR_dist_grouped.png\") "
   ]
  },
  {
   "cell_type": "markdown",
   "metadata": {},
   "source": [
    "### CSF for All Groups"
   ]
  },
  {
   "cell_type": "code",
   "execution_count": null,
   "metadata": {
    "execution": {
     "iopub.execute_input": "2023-01-19T03:55:41.584167Z",
     "iopub.status.busy": "2023-01-19T03:55:41.583812Z",
     "iopub.status.idle": "2023-01-19T03:55:41.981975Z",
     "shell.execute_reply": "2023-01-19T03:55:41.980936Z",
     "shell.execute_reply.started": "2023-01-19T03:55:41.584140Z"
    }
   },
   "outputs": [],
   "source": [
    "df_viz = df[df['group'].isin([1, 2, 3, 4, 5, 6])]\n",
    "palette = {1:\"tab:blue\",\n",
    "           2:\"tab:green\", \n",
    "           3:\"tab:olive\",\n",
    "           4:\"tab:pink\",\n",
    "           5:\"tab:orange\",\n",
    "           6:\"tab:red\"}\n",
    "\n",
    "sb.set(rc={'figure.figsize':(10, 8)})\n",
    "plot = sb.histplot(data=df_viz, x=\"player_CSF\", bins=10, stat=\"density\", \n",
    "                   element=\"step\", kde=True, hue='group', palette=palette)\n",
    "\n",
    "fig = plot.get_figure()\n",
    "fig.savefig(\"/kaggle/working/CSF_dist_grouped.png\") "
   ]
  },
  {
   "cell_type": "markdown",
   "metadata": {},
   "source": [
    "# Suggestion\n",
    "\n",
    "\n",
    "1. Add agents pool for every player into analysis. This will incorporate agents pool as indication of different playstyle.\n",
    "\n",
    "2. Add a new stat that shows when the player died as a respect to their team (first to die, second to die, third to die, etc). This will show who is the one that trades the space taker or who is the one that plays passively in a site execution."
   ]
  },
  {
   "cell_type": "markdown",
   "metadata": {},
   "source": [
    "## Thankyou for reading :)"
   ]
  },
  {
   "cell_type": "code",
   "execution_count": null,
   "metadata": {},
   "outputs": [],
   "source": []
  }
 ],
 "metadata": {
  "kernelspec": {
   "display_name": "Python 3 (ipykernel)",
   "language": "python",
   "name": "python3"
  },
  "language_info": {
   "codemirror_mode": {
    "name": "ipython",
    "version": 3
   },
   "file_extension": ".py",
   "mimetype": "text/x-python",
   "name": "python",
   "nbconvert_exporter": "python",
   "pygments_lexer": "ipython3",
   "version": "3.11.4"
  }
 },
 "nbformat": 4,
 "nbformat_minor": 4
}
